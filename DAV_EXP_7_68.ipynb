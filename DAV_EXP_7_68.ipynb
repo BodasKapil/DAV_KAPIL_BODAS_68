{
  "nbformat": 4,
  "nbformat_minor": 0,
  "metadata": {
    "colab": {
      "provenance": []
    },
    "kernelspec": {
      "name": "ir",
      "display_name": "R"
    },
    "language_info": {
      "name": "R"
    }
  },
  "cells": [
    {
      "cell_type": "markdown",
      "source": [
        "## **Experiment - 7: Perform the steps involved in Text Analytics in Python & R**\n",
        "\n",
        "### **Task performed**:\n",
        "Explored Top-5 Text Analytics Libraries in Python (w.r.t Features & Applications)\n",
        "\n",
        "Explored Top-5 Text Analytics Libraries in R (w.r.t Features & Applications)\n",
        "\n",
        "Perform the following experiments using Python & R\n",
        "\n",
        "1. Tokenization (Sentence & Word)\n",
        "\n",
        "2. Frequency Distribution\n",
        "\n",
        "3. Remove stopwords & punctuations\n",
        "\n",
        "4. Lexicon Normalization (Stemming, Lemmatization)\n",
        "\n",
        "5. Part of Speech tagging\n",
        "\n",
        "6. Named Entity Recognization\n",
        "\n",
        "7. Scrape data from a website\n",
        "\n",
        "**Python Libraries**: nltk, scattertext, SpaCy, TextBlob, sklearn, pandas, numpy\n",
        "\n",
        "**R Libraries**: shiny, tm, quanteda"
      ],
      "metadata": {
        "id": "tRGKKZ9uHrRP"
      }
    },
    {
      "cell_type": "code",
      "execution_count": 1,
      "metadata": {
        "id": "CcEO0HkCEypB",
        "colab": {
          "base_uri": "https://localhost:8080/"
        },
        "outputId": "ebc16ae6-b26c-4e38-d47d-5a57ea78b64d"
      },
      "outputs": [
        {
          "output_type": "stream",
          "name": "stdout",
          "text": [
            "Requirement already satisfied: nltk in /usr/local/lib/python3.10/dist-packages (3.8.1)\n",
            "Requirement already satisfied: click in /usr/local/lib/python3.10/dist-packages (from nltk) (8.1.7)\n",
            "Requirement already satisfied: joblib in /usr/local/lib/python3.10/dist-packages (from nltk) (1.3.2)\n",
            "Requirement already satisfied: regex>=2021.8.3 in /usr/local/lib/python3.10/dist-packages (from nltk) (2023.12.25)\n",
            "Requirement already satisfied: tqdm in /usr/local/lib/python3.10/dist-packages (from nltk) (4.66.2)\n"
          ]
        }
      ],
      "source": [
        "pip install nltk"
      ]
    },
    {
      "cell_type": "code",
      "source": [
        "import nltk\n",
        "nltk.download('punkt')"
      ],
      "metadata": {
        "colab": {
          "base_uri": "https://localhost:8080/"
        },
        "id": "YXmyJlrxGS16",
        "outputId": "1b3509ea-a09e-4aba-c939-f63af85483fd"
      },
      "execution_count": 2,
      "outputs": [
        {
          "output_type": "stream",
          "name": "stderr",
          "text": [
            "[nltk_data] Downloading package punkt to /root/nltk_data...\n",
            "[nltk_data]   Unzipping tokenizers/punkt.zip.\n"
          ]
        },
        {
          "output_type": "execute_result",
          "data": {
            "text/plain": [
              "True"
            ]
          },
          "metadata": {},
          "execution_count": 2
        }
      ]
    },
    {
      "cell_type": "code",
      "source": [
        "import nltk\n",
        "from nltk import sent_tokenize, word_tokenize, FreqDist, pos_tag, ne_chunk\n",
        "from nltk.corpus import stopwords\n",
        "from nltk.stem import PorterStemmer\n",
        "\n",
        "nltk.download('punkt')\n",
        "nltk.download('stopwords')\n",
        "nltk.download('averaged_perceptron_tagger')\n",
        "nltk.download('maxent_ne_chunker')\n",
        "nltk.download('words')"
      ],
      "metadata": {
        "id": "Dk_6X5iFL5Fh",
        "outputId": "10001f58-5f5a-4e06-e51e-d215e5283de1",
        "colab": {
          "base_uri": "https://localhost:8080/"
        }
      },
      "execution_count": 3,
      "outputs": [
        {
          "output_type": "stream",
          "name": "stderr",
          "text": [
            "[nltk_data] Downloading package punkt to /root/nltk_data...\n",
            "[nltk_data]   Package punkt is already up-to-date!\n",
            "[nltk_data] Downloading package stopwords to /root/nltk_data...\n",
            "[nltk_data]   Unzipping corpora/stopwords.zip.\n",
            "[nltk_data] Downloading package averaged_perceptron_tagger to\n",
            "[nltk_data]     /root/nltk_data...\n",
            "[nltk_data]   Unzipping taggers/averaged_perceptron_tagger.zip.\n",
            "[nltk_data] Downloading package maxent_ne_chunker to\n",
            "[nltk_data]     /root/nltk_data...\n",
            "[nltk_data]   Unzipping chunkers/maxent_ne_chunker.zip.\n",
            "[nltk_data] Downloading package words to /root/nltk_data...\n",
            "[nltk_data]   Unzipping corpora/words.zip.\n"
          ]
        },
        {
          "output_type": "execute_result",
          "data": {
            "text/plain": [
              "True"
            ]
          },
          "metadata": {},
          "execution_count": 3
        }
      ]
    },
    {
      "cell_type": "code",
      "source": [
        "import nltk\n",
        "from nltk import sent_tokenize, word_tokenize, FreqDist, pos_tag, ne_chunk\n",
        "def tokenize_sentences(text):\n",
        "    return sent_tokenize(text)\n",
        "sample_text = \"Nature, with its infinite canvas of wonders, paints landscapes that evoke a profound sense of awe and serenity. The rustling leaves whisper tales of ancient wisdom, while the gentle caress of the breeze carries the sweet fragrance of blooming flowers. The sun, a radiant artist, orchestrates the masterpiece of dawn and dusk, casting hues that dance across the sky in a symphony of colors. Majestic mountains stand as sentinels of time, their peaks touching the heavens, and babbling brooks weave through meadows like nature's delicate embroidery. In the heart of the wilderness, the melody of chirping birds and the hum of insects create a harmonious chorus, inviting one to immerse in the symphony of life. Each season, from the vibrant rebirth of spring to the introspective hush of winter, paints a unique stroke on the canvas of existence. Nature, a sanctuary of tranquility, inspires contemplation and connection, reminding us of the intricate dance between the earth and its inhabitants.\"\n",
        "sentences = tokenize_sentences(sample_text)\n",
        "print(\"Sentences:\", sentences)\n",
        "\n"
      ],
      "metadata": {
        "colab": {
          "base_uri": "https://localhost:8080/"
        },
        "id": "5yLU69CHKJvF",
        "outputId": "c95b67a5-37cb-44bc-a95a-d57c4f85eb90"
      },
      "execution_count": 4,
      "outputs": [
        {
          "output_type": "stream",
          "name": "stdout",
          "text": [
            "Sentences: ['Nature, with its infinite canvas of wonders, paints landscapes that evoke a profound sense of awe and serenity.', 'The rustling leaves whisper tales of ancient wisdom, while the gentle caress of the breeze carries the sweet fragrance of blooming flowers.', 'The sun, a radiant artist, orchestrates the masterpiece of dawn and dusk, casting hues that dance across the sky in a symphony of colors.', \"Majestic mountains stand as sentinels of time, their peaks touching the heavens, and babbling brooks weave through meadows like nature's delicate embroidery.\", 'In the heart of the wilderness, the melody of chirping birds and the hum of insects create a harmonious chorus, inviting one to immerse in the symphony of life.', 'Each season, from the vibrant rebirth of spring to the introspective hush of winter, paints a unique stroke on the canvas of existence.', 'Nature, a sanctuary of tranquility, inspires contemplation and connection, reminding us of the intricate dance between the earth and its inhabitants.']\n"
          ]
        }
      ]
    },
    {
      "cell_type": "code",
      "source": [
        "def tokenize_words(text):\n",
        "    return word_tokenize(text)\n",
        "words = tokenize_words(sample_text)\n",
        "print(\"Words:\",words)"
      ],
      "metadata": {
        "colab": {
          "base_uri": "https://localhost:8080/"
        },
        "id": "D6LP3G6MIUUa",
        "outputId": "09d26432-25f0-4a10-d333-9a4f7d0a7d10"
      },
      "execution_count": 5,
      "outputs": [
        {
          "output_type": "stream",
          "name": "stdout",
          "text": [
            "Words: ['Nature', ',', 'with', 'its', 'infinite', 'canvas', 'of', 'wonders', ',', 'paints', 'landscapes', 'that', 'evoke', 'a', 'profound', 'sense', 'of', 'awe', 'and', 'serenity', '.', 'The', 'rustling', 'leaves', 'whisper', 'tales', 'of', 'ancient', 'wisdom', ',', 'while', 'the', 'gentle', 'caress', 'of', 'the', 'breeze', 'carries', 'the', 'sweet', 'fragrance', 'of', 'blooming', 'flowers', '.', 'The', 'sun', ',', 'a', 'radiant', 'artist', ',', 'orchestrates', 'the', 'masterpiece', 'of', 'dawn', 'and', 'dusk', ',', 'casting', 'hues', 'that', 'dance', 'across', 'the', 'sky', 'in', 'a', 'symphony', 'of', 'colors', '.', 'Majestic', 'mountains', 'stand', 'as', 'sentinels', 'of', 'time', ',', 'their', 'peaks', 'touching', 'the', 'heavens', ',', 'and', 'babbling', 'brooks', 'weave', 'through', 'meadows', 'like', 'nature', \"'s\", 'delicate', 'embroidery', '.', 'In', 'the', 'heart', 'of', 'the', 'wilderness', ',', 'the', 'melody', 'of', 'chirping', 'birds', 'and', 'the', 'hum', 'of', 'insects', 'create', 'a', 'harmonious', 'chorus', ',', 'inviting', 'one', 'to', 'immerse', 'in', 'the', 'symphony', 'of', 'life', '.', 'Each', 'season', ',', 'from', 'the', 'vibrant', 'rebirth', 'of', 'spring', 'to', 'the', 'introspective', 'hush', 'of', 'winter', ',', 'paints', 'a', 'unique', 'stroke', 'on', 'the', 'canvas', 'of', 'existence', '.', 'Nature', ',', 'a', 'sanctuary', 'of', 'tranquility', ',', 'inspires', 'contemplation', 'and', 'connection', ',', 'reminding', 'us', 'of', 'the', 'intricate', 'dance', 'between', 'the', 'earth', 'and', 'its', 'inhabitants', '.']\n"
          ]
        }
      ]
    },
    {
      "cell_type": "code",
      "source": [
        "def calculate_frequency_distribution(words):\n",
        "    return FreqDist(words)\n",
        "freq_dist = calculate_frequency_distribution(words)\n",
        "print(\"Frequency Distribution:\", freq_dist)"
      ],
      "metadata": {
        "colab": {
          "base_uri": "https://localhost:8080/"
        },
        "id": "4YY6D8ueK1QZ",
        "outputId": "cdba977d-bedb-4cd1-a2ef-89f575a19800"
      },
      "execution_count": 6,
      "outputs": [
        {
          "output_type": "stream",
          "name": "stdout",
          "text": [
            "Frequency Distribution: <FreqDist with 111 samples and 182 outcomes>\n"
          ]
        }
      ]
    },
    {
      "cell_type": "code",
      "source": [
        "def remove_stopwords_and_punctuations(words):\n",
        "    stop_words = set(stopwords.words('english'))\n",
        "    return [word.lower() for word in words if word.isalnum() and word.lower() not in stop_words]\n",
        "filtered_words = remove_stopwords_and_punctuations(words)\n",
        "print(\"Filtered Words (stopwords and punctuations removed):\", filtered_words)"
      ],
      "metadata": {
        "colab": {
          "base_uri": "https://localhost:8080/"
        },
        "id": "bUzrcD2nK_AZ",
        "outputId": "d34731f6-6215-4889-9d80-46e4bb4fabff"
      },
      "execution_count": 7,
      "outputs": [
        {
          "output_type": "stream",
          "name": "stdout",
          "text": [
            "Filtered Words (stopwords and punctuations removed): ['nature', 'infinite', 'canvas', 'wonders', 'paints', 'landscapes', 'evoke', 'profound', 'sense', 'awe', 'serenity', 'rustling', 'leaves', 'whisper', 'tales', 'ancient', 'wisdom', 'gentle', 'caress', 'breeze', 'carries', 'sweet', 'fragrance', 'blooming', 'flowers', 'sun', 'radiant', 'artist', 'orchestrates', 'masterpiece', 'dawn', 'dusk', 'casting', 'hues', 'dance', 'across', 'sky', 'symphony', 'colors', 'majestic', 'mountains', 'stand', 'sentinels', 'time', 'peaks', 'touching', 'heavens', 'babbling', 'brooks', 'weave', 'meadows', 'like', 'nature', 'delicate', 'embroidery', 'heart', 'wilderness', 'melody', 'chirping', 'birds', 'hum', 'insects', 'create', 'harmonious', 'chorus', 'inviting', 'one', 'immerse', 'symphony', 'life', 'season', 'vibrant', 'rebirth', 'spring', 'introspective', 'hush', 'winter', 'paints', 'unique', 'stroke', 'canvas', 'existence', 'nature', 'sanctuary', 'tranquility', 'inspires', 'contemplation', 'connection', 'reminding', 'us', 'intricate', 'dance', 'earth', 'inhabitants']\n"
          ]
        }
      ]
    },
    {
      "cell_type": "code",
      "source": [
        "\n",
        "def stem_words(words):\n",
        "    porter_stemmer = PorterStemmer()\n",
        "    return [porter_stemmer.stem(word) for word in words]\n",
        "stemmed_words = stem_words(filtered_words)\n",
        "print(\"Stemmed Words:\", stemmed_words)"
      ],
      "metadata": {
        "colab": {
          "base_uri": "https://localhost:8080/"
        },
        "id": "NsjgrG5KLN9x",
        "outputId": "9074b05b-5307-4136-f317-a79b1bcebae4"
      },
      "execution_count": 8,
      "outputs": [
        {
          "output_type": "stream",
          "name": "stdout",
          "text": [
            "Stemmed Words: ['natur', 'infinit', 'canva', 'wonder', 'paint', 'landscap', 'evok', 'profound', 'sens', 'awe', 'seren', 'rustl', 'leav', 'whisper', 'tale', 'ancient', 'wisdom', 'gentl', 'caress', 'breez', 'carri', 'sweet', 'fragranc', 'bloom', 'flower', 'sun', 'radiant', 'artist', 'orchestr', 'masterpiec', 'dawn', 'dusk', 'cast', 'hue', 'danc', 'across', 'sky', 'symphoni', 'color', 'majest', 'mountain', 'stand', 'sentinel', 'time', 'peak', 'touch', 'heaven', 'babbl', 'brook', 'weav', 'meadow', 'like', 'natur', 'delic', 'embroideri', 'heart', 'wilder', 'melodi', 'chirp', 'bird', 'hum', 'insect', 'creat', 'harmoni', 'choru', 'invit', 'one', 'immers', 'symphoni', 'life', 'season', 'vibrant', 'rebirth', 'spring', 'introspect', 'hush', 'winter', 'paint', 'uniqu', 'stroke', 'canva', 'exist', 'natur', 'sanctuari', 'tranquil', 'inspir', 'contempl', 'connect', 'remind', 'us', 'intric', 'danc', 'earth', 'inhabit']\n"
          ]
        }
      ]
    },
    {
      "cell_type": "code",
      "source": [
        "def perform_pos_tagging(words):\n",
        "    return pos_tag(words)\n",
        "pos_tags = perform_pos_tagging(stemmed_words)\n",
        "print(\"Part of Speech Tags:\", pos_tags)"
      ],
      "metadata": {
        "colab": {
          "base_uri": "https://localhost:8080/"
        },
        "id": "XoSf5lhyLalh",
        "outputId": "ebbbec90-343e-4f37-ac6a-74aa8a29df60"
      },
      "execution_count": 9,
      "outputs": [
        {
          "output_type": "stream",
          "name": "stdout",
          "text": [
            "Part of Speech Tags: [('natur', 'JJ'), ('infinit', 'NN'), ('canva', 'NN'), ('wonder', 'VBP'), ('paint', 'NN'), ('landscap', 'NN'), ('evok', 'VBP'), ('profound', 'NN'), ('sens', 'NNS'), ('awe', 'VBP'), ('seren', 'JJ'), ('rustl', 'NN'), ('leav', 'NN'), ('whisper', 'IN'), ('tale', 'JJ'), ('ancient', 'JJ'), ('wisdom', 'NN'), ('gentl', 'NN'), ('caress', 'NN'), ('breez', 'NN'), ('carri', 'NN'), ('sweet', 'JJ'), ('fragranc', 'NN'), ('bloom', 'NN'), ('flower', 'NN'), ('sun', 'NN'), ('radiant', 'JJ'), ('artist', 'NN'), ('orchestr', 'IN'), ('masterpiec', 'JJ'), ('dawn', 'NN'), ('dusk', 'NN'), ('cast', 'VBD'), ('hue', 'JJ'), ('danc', 'NN'), ('across', 'IN'), ('sky', 'NN'), ('symphoni', 'NN'), ('color', 'NN'), ('majest', 'JJS'), ('mountain', 'NN'), ('stand', 'NN'), ('sentinel', 'NN'), ('time', 'NN'), ('peak', 'JJ'), ('touch', 'JJ'), ('heaven', 'NN'), ('babbl', 'NN'), ('brook', 'NN'), ('weav', 'VBP'), ('meadow', 'NN'), ('like', 'IN'), ('natur', 'JJ'), ('delic', 'JJ'), ('embroideri', 'JJ'), ('heart', 'NN'), ('wilder', 'NN'), ('melodi', 'NN'), ('chirp', 'NN'), ('bird', 'NN'), ('hum', 'NN'), ('insect', 'JJ'), ('creat', 'NN'), ('harmoni', 'NN'), ('choru', 'NN'), ('invit', 'NN'), ('one', 'CD'), ('immers', 'NNS'), ('symphoni', 'JJ'), ('life', 'NN'), ('season', 'NN'), ('vibrant', 'JJ'), ('rebirth', 'NN'), ('spring', 'NN'), ('introspect', 'NN'), ('hush', 'NN'), ('winter', 'NN'), ('paint', 'NN'), ('uniqu', 'JJ'), ('stroke', 'VBD'), ('canva', 'JJ'), ('exist', 'JJ'), ('natur', 'NN'), ('sanctuari', 'NN'), ('tranquil', 'NN'), ('inspir', 'NN'), ('contempl', 'NN'), ('connect', 'NN'), ('remind', 'VBP'), ('us', 'PRP'), ('intric', 'JJ'), ('danc', 'NN'), ('earth', 'NN'), ('inhabit', 'NN')]\n"
          ]
        }
      ]
    },
    {
      "cell_type": "code",
      "source": [
        "def perform_named_entity_recognition(pos_tags):\n",
        "    return ne_chunk(pos_tags)\n",
        "named_entities = perform_named_entity_recognition(pos_tags)\n",
        "print(\"Named Entities:\", named_entities)"
      ],
      "metadata": {
        "colab": {
          "base_uri": "https://localhost:8080/"
        },
        "id": "-WzIfHdXLlWp",
        "outputId": "279833d5-2723-411c-ef00-26a23ebe18eb"
      },
      "execution_count": 10,
      "outputs": [
        {
          "output_type": "stream",
          "name": "stdout",
          "text": [
            "Named Entities: (S\n",
            "  natur/JJ\n",
            "  infinit/NN\n",
            "  canva/NN\n",
            "  wonder/VBP\n",
            "  paint/NN\n",
            "  landscap/NN\n",
            "  evok/VBP\n",
            "  profound/NN\n",
            "  sens/NNS\n",
            "  awe/VBP\n",
            "  seren/JJ\n",
            "  rustl/NN\n",
            "  leav/NN\n",
            "  whisper/IN\n",
            "  tale/JJ\n",
            "  ancient/JJ\n",
            "  wisdom/NN\n",
            "  gentl/NN\n",
            "  caress/NN\n",
            "  breez/NN\n",
            "  carri/NN\n",
            "  sweet/JJ\n",
            "  fragranc/NN\n",
            "  bloom/NN\n",
            "  flower/NN\n",
            "  sun/NN\n",
            "  radiant/JJ\n",
            "  artist/NN\n",
            "  orchestr/IN\n",
            "  masterpiec/JJ\n",
            "  dawn/NN\n",
            "  dusk/NN\n",
            "  cast/VBD\n",
            "  hue/JJ\n",
            "  danc/NN\n",
            "  across/IN\n",
            "  sky/NN\n",
            "  symphoni/NN\n",
            "  color/NN\n",
            "  majest/JJS\n",
            "  mountain/NN\n",
            "  stand/NN\n",
            "  sentinel/NN\n",
            "  time/NN\n",
            "  peak/JJ\n",
            "  touch/JJ\n",
            "  heaven/NN\n",
            "  babbl/NN\n",
            "  brook/NN\n",
            "  weav/VBP\n",
            "  meadow/NN\n",
            "  like/IN\n",
            "  natur/JJ\n",
            "  delic/JJ\n",
            "  embroideri/JJ\n",
            "  heart/NN\n",
            "  wilder/NN\n",
            "  melodi/NN\n",
            "  chirp/NN\n",
            "  bird/NN\n",
            "  hum/NN\n",
            "  insect/JJ\n",
            "  creat/NN\n",
            "  harmoni/NN\n",
            "  choru/NN\n",
            "  invit/NN\n",
            "  one/CD\n",
            "  immers/NNS\n",
            "  symphoni/JJ\n",
            "  life/NN\n",
            "  season/NN\n",
            "  vibrant/JJ\n",
            "  rebirth/NN\n",
            "  spring/NN\n",
            "  introspect/NN\n",
            "  hush/NN\n",
            "  winter/NN\n",
            "  paint/NN\n",
            "  uniqu/JJ\n",
            "  stroke/VBD\n",
            "  canva/JJ\n",
            "  exist/JJ\n",
            "  natur/NN\n",
            "  sanctuari/NN\n",
            "  tranquil/NN\n",
            "  inspir/NN\n",
            "  contempl/NN\n",
            "  connect/NN\n",
            "  remind/VBP\n",
            "  us/PRP\n",
            "  intric/JJ\n",
            "  danc/NN\n",
            "  earth/NN\n",
            "  inhabit/NN)\n"
          ]
        }
      ]
    },
    {
      "cell_type": "code",
      "source": [
        "pip install requests beautifulsoup4\n"
      ],
      "metadata": {
        "id": "YjtWY-tELyaD",
        "colab": {
          "base_uri": "https://localhost:8080/"
        },
        "outputId": "23cfafb7-9b3b-4c20-f14e-e3f7c4740bce"
      },
      "execution_count": 11,
      "outputs": [
        {
          "output_type": "stream",
          "name": "stdout",
          "text": [
            "Requirement already satisfied: requests in /usr/local/lib/python3.10/dist-packages (2.31.0)\n",
            "Requirement already satisfied: beautifulsoup4 in /usr/local/lib/python3.10/dist-packages (4.12.3)\n",
            "Requirement already satisfied: charset-normalizer<4,>=2 in /usr/local/lib/python3.10/dist-packages (from requests) (3.3.2)\n",
            "Requirement already satisfied: idna<4,>=2.5 in /usr/local/lib/python3.10/dist-packages (from requests) (3.6)\n",
            "Requirement already satisfied: urllib3<3,>=1.21.1 in /usr/local/lib/python3.10/dist-packages (from requests) (2.0.7)\n",
            "Requirement already satisfied: certifi>=2017.4.17 in /usr/local/lib/python3.10/dist-packages (from requests) (2024.2.2)\n",
            "Requirement already satisfied: soupsieve>1.2 in /usr/local/lib/python3.10/dist-packages (from beautifulsoup4) (2.5)\n"
          ]
        }
      ]
    },
    {
      "cell_type": "code",
      "source": [
        "\n",
        "import requests\n",
        "from bs4 import BeautifulSoup\n",
        "url = 'https://www.w3schools.com'\n",
        "response = requests.get(url)\n",
        "if response.status_code == 200:\n",
        "    soup = BeautifulSoup(response.content, 'html.parser')\n",
        "    print(\"Page Title:\", soup.title.text)\n",
        "    links = soup.find_all('a')\n",
        "    for link in links:\n",
        "        print(\"Link:\", link.get('href'))\n",
        "else:\n",
        "    print(\"Failed to retrieve the page. Status code:\", response.status_code)\n",
        "\n",
        "\n",
        "# import requests\n",
        "# from bs4 import BeautifulSoup\n",
        "\n",
        "# url = 'https://www.w3schools.com'\n",
        "\n",
        "# response = requests.get(url)\n",
        "\n",
        "# if response.status_code == 200:\n",
        "#     soup = BeautifulSoup(response.text, 'html.parser')\n",
        "#     quotes = soup.find_all('span', class_='text')\n",
        "#     authors = soup.find_all('small', class_='author')\n",
        "#     for quote, author in zip(quotes, authors):\n",
        "#         print(f\"Quote: {quote.text.strip()}\")\n",
        "#         print(f\"Author: {author.text.strip()}\\n\")\n",
        "\n",
        "# else:\n",
        "#     print(f\"Failed to retrieve the page. Status code: {response.status_code}\")"
      ],
      "metadata": {
        "colab": {
          "base_uri": "https://localhost:8080/"
        },
        "id": "BJjSjdoWV9Hy",
        "outputId": "7d92407f-9b5e-4e51-f65b-86e7b8d98957"
      },
      "execution_count": 15,
      "outputs": [
        {
          "output_type": "stream",
          "name": "stdout",
          "text": [
            "Page Title: W3Schools Online Web Tutorials\n",
            "Link: https://www.w3schools.com\n",
            "Link: javascript:void(0)\n",
            "Link: javascript:void(0)\n",
            "Link: javascript:void(0)\n",
            "Link: javascript:void(0)\n",
            "Link: javascript:void(0)\n",
            "Link: javascript:void(0);\n",
            "Link: https://profile.w3schools.com/log-in\n",
            "Link: https://profile.w3schools.com/sign-up\n",
            "Link: https://profile.w3schools.com/log-in\n",
            "Link: https://my-learning.w3schools.com\n",
            "Link: https://campus.w3schools.com/collections/course-catalog\n",
            "Link: /spaces/index.php\n",
            "Link: /pathfinder/pathfinder_talent.php\n",
            "Link: https://campus.w3schools.com/collections/course-catalog\n",
            "Link: https://spaces.w3schools.com/space/\n",
            "Link: /pathfinder/pathfinder_talent.php\n",
            "Link: https://my-learning.w3schools.com\n",
            "Link: /spaces/index.php\n",
            "Link: https://campus.w3schools.com/collections/course-catalog\n",
            "Link: /pathfinder/pathfinder_talent.php\n",
            "Link: https://profile.w3schools.com/logout\n",
            "Link: https://www.facebook.com/w3schoolscom/\n",
            "Link: https://www.instagram.com/w3schools.com_official/\n",
            "Link: https://discord.gg/6Z7UaRbUQM\n",
            "Link: https://www.linkedin.com/company/w3schools.com/\n",
            "Link: /html/default.asp\n",
            "Link: /html/default.asp\n",
            "Link: /tags/default.asp\n",
            "Link: /css/default.asp\n",
            "Link: /css/default.asp\n",
            "Link: /cssref/default.asp\n",
            "Link: /css/css_rwd_intro.asp\n",
            "Link: /css/css_rwd_intro.asp\n",
            "Link: /bootstrap/bootstrap_ver.asp\n",
            "Link: /bootstrap/bootstrap_ver.asp\n",
            "Link: /w3css/default.asp\n",
            "Link: /w3css/default.asp\n",
            "Link: /w3css/w3css_references.asp\n",
            "Link: /sass/default.php\n",
            "Link: /sass/default.php\n",
            "Link: /sass/sass_functions_string.php\n",
            "Link: /colors/default.asp\n",
            "Link: /colors/default.asp\n",
            "Link: /colors/colors_fs595.asp\n",
            "Link: /icons/default.asp\n",
            "Link: /icons/default.asp\n",
            "Link: /icons/icons_reference.asp\n",
            "Link: /graphics/svg_intro.asp\n",
            "Link: /graphics/svg_intro.asp\n",
            "Link: /graphics/svg_reference.asp\n",
            "Link: /graphics/canvas_intro.asp\n",
            "Link: /graphics/canvas_intro.asp\n",
            "Link: /graphics/canvas_reference.asp\n",
            "Link: /graphics/default.asp\n",
            "Link: /graphics/default.asp\n",
            "Link: /charsets/default.asp\n",
            "Link: /charsets/default.asp\n",
            "Link: /howto/default.asp\n",
            "Link: /howto/default.asp\n",
            "Link: /ai/default.asp\n",
            "Link: /ai/default.asp\n",
            "Link: /gen_ai/index.php\n",
            "Link: /gen_ai/index.php\n",
            "Link: /gen_ai/chatgpt-3-5/index.php\n",
            "Link: /gen_ai/chatgpt-3-5/index.php\n",
            "Link: /gen_ai/chatgpt-4/index.php\n",
            "Link: /gen_ai/chatgpt-4/index.php\n",
            "Link: /gen_ai/bard/index.php\n",
            "Link: /gen_ai/bard/index.php\n",
            "Link: /python/python_ml_getting_started.asp\n",
            "Link: /python/python_ml_getting_started.asp\n",
            "Link: /dsa/index.php\n",
            "Link: /dsa/index.php\n",
            "Link: /datascience/default.asp\n",
            "Link: /datascience/default.asp\n",
            "Link: /python/numpy/default.asp\n",
            "Link: /python/numpy/default.asp\n",
            "Link: /python/pandas/default.asp\n",
            "Link: /python/pandas/default.asp\n",
            "Link: /python/scipy/index.php\n",
            "Link: /python/scipy/index.php\n",
            "Link: /python/matplotlib_intro.asp\n",
            "Link: /python/matplotlib_intro.asp\n",
            "Link: /statistics/index.php\n",
            "Link: /statistics/index.php\n",
            "Link: /excel/index.php\n",
            "Link: /excel/index.php\n",
            "Link: /googlesheets/index.php\n",
            "Link: /googlesheets/index.php\n",
            "Link: /spaces/index.php\n",
            "Link: /spaces/index.php\n",
            "Link: /where_to_start.asp\n",
            "Link: /w3css/w3css_templates.asp\n",
            "Link: /browsers/default.asp\n",
            "Link: https://campus.w3schools.com\n",
            "Link: /whatis/default.asp\n",
            "Link: /tryit/default.asp\n",
            "Link: /typingspeed/default.asp\n",
            "Link: /codegame/index.html\n",
            "Link: /cybersecurity/index.php\n",
            "Link: /accessibility/index.php\n",
            "Link: https://campus.w3schools.com/pages/newsletter\n",
            "Link: /js/default.asp\n",
            "Link: /js/default.asp\n",
            "Link: /jsref/default.asp\n",
            "Link: /react/default.asp\n",
            "Link: /react/default.asp\n",
            "Link: /jquery/default.asp\n",
            "Link: /jquery/default.asp\n",
            "Link: /jquery/jquery_ref_overview.asp\n",
            "Link: /vue/index.php\n",
            "Link: /vue/index.php\n",
            "Link: /vue/vue_ref_builtin-attributes.php\n",
            "Link: /angular/default.asp\n",
            "Link: /angular/default.asp\n",
            "Link: /angular/angular_ref_directives.asp\n",
            "Link: /js/js_json_intro.asp\n",
            "Link: /js/js_json_intro.asp\n",
            "Link: /jsref/jsref_obj_json.asp\n",
            "Link: /js/js_ajax_intro.asp\n",
            "Link: /js/js_ajax_intro.asp\n",
            "Link: /appml/default.asp\n",
            "Link: /appml/default.asp\n",
            "Link: /appml/appml_reference.asp\n",
            "Link: /w3js/default.asp\n",
            "Link: /w3js/default.asp\n",
            "Link: /w3js/w3js_references.asp\n",
            "Link: /spaces/index.php\n",
            "Link: /spaces/index.php\n",
            "Link: /where_to_start.asp\n",
            "Link: /w3css/w3css_templates.asp\n",
            "Link: /browsers/default.asp\n",
            "Link: https://campus.w3schools.com\n",
            "Link: /whatis/default.asp\n",
            "Link: /tryit/default.asp\n",
            "Link: /typingspeed/default.asp\n",
            "Link: /codegame/index.html\n",
            "Link: /cybersecurity/index.php\n",
            "Link: /accessibility/index.php\n",
            "Link: https://campus.w3schools.com/pages/newsletter\n",
            "Link: /python/default.asp\n",
            "Link: /python/default.asp\n",
            "Link: /python/python_reference.asp\n",
            "Link: /sql/default.asp\n",
            "Link: /sql/default.asp\n",
            "Link: /sql/sql_ref_keywords.asp\n",
            "Link: /mysql/default.asp\n",
            "Link: /mysql/default.asp\n",
            "Link: /mysql/mysql_datatypes.asp\n",
            "Link: /php/default.asp\n",
            "Link: /php/default.asp\n",
            "Link: /php/php_ref_overview.asp\n",
            "Link: /java/default.asp\n",
            "Link: /java/default.asp\n",
            "Link: /java/java_ref_keywords.asp\n",
            "Link: /c/index.php\n",
            "Link: /c/index.php\n",
            "Link: /cpp/default.asp\n",
            "Link: /cpp/default.asp\n",
            "Link: /cs/index.php\n",
            "Link: /cs/index.php\n",
            "Link: /r/default.asp\n",
            "Link: /r/default.asp\n",
            "Link: /kotlin/index.php\n",
            "Link: /kotlin/index.php\n",
            "Link: /go/index.php\n",
            "Link: /go/index.php\n",
            "Link: /django/index.php\n",
            "Link: /django/index.php\n",
            "Link: /django/django_ref_template_tags.php\n",
            "Link: /postgresql/index.php\n",
            "Link: /postgresql/index.php\n",
            "Link: /typescript/index.php\n",
            "Link: /typescript/index.php\n",
            "Link: /asp/default.asp\n",
            "Link: /asp/default.asp\n",
            "Link: /asp/asp_ref_vbscript_functions.asp\n",
            "Link: /nodejs/default.asp\n",
            "Link: /nodejs/default.asp\n",
            "Link: /nodejs/ref_modules.asp\n",
            "Link: /nodejs/nodejs_raspberrypi.asp\n",
            "Link: /nodejs/nodejs_raspberrypi.asp\n",
            "Link: /git/default.asp\n",
            "Link: /git/default.asp\n",
            "Link: /mongodb/index.php\n",
            "Link: /mongodb/index.php\n",
            "Link: /aws/index.php\n",
            "Link: /aws/index.php\n",
            "Link: /xml/default.asp\n",
            "Link: /xml/default.asp\n",
            "Link: /xml/dom_nodetype.asp\n",
            "Link: /ai/default.asp\n",
            "Link: /ai/default.asp\n",
            "Link: /gen_ai/index.php\n",
            "Link: /gen_ai/index.php\n",
            "Link: /gen_ai/chatgpt-3-5/index.php\n",
            "Link: /gen_ai/chatgpt-3-5/index.php\n",
            "Link: /gen_ai/chatgpt-4/index.php\n",
            "Link: /gen_ai/chatgpt-4/index.php\n",
            "Link: /gen_ai/bard/index.php\n",
            "Link: /gen_ai/bard/index.php\n",
            "Link: /python/python_ml_getting_started.asp\n",
            "Link: /python/python_ml_getting_started.asp\n",
            "Link: /dsa/index.php\n",
            "Link: /dsa/index.php\n",
            "Link: /datascience/default.asp\n",
            "Link: /datascience/default.asp\n",
            "Link: /python/numpy/default.asp\n",
            "Link: /python/numpy/default.asp\n",
            "Link: /python/pandas/default.asp\n",
            "Link: /python/pandas/default.asp\n",
            "Link: /python/scipy/index.php\n",
            "Link: /python/scipy/index.php\n",
            "Link: /python/matplotlib_intro.asp\n",
            "Link: /python/matplotlib_intro.asp\n",
            "Link: /statistics/index.php\n",
            "Link: /statistics/index.php\n",
            "Link: /excel/index.php\n",
            "Link: /excel/index.php\n",
            "Link: /googlesheets/index.php\n",
            "Link: /googlesheets/index.php\n",
            "Link: /spaces/index.php\n",
            "Link: /spaces/index.php\n",
            "Link: /where_to_start.asp\n",
            "Link: /w3css/w3css_templates.asp\n",
            "Link: /browsers/default.asp\n",
            "Link: https://campus.w3schools.com\n",
            "Link: /whatis/default.asp\n",
            "Link: /tryit/default.asp\n",
            "Link: /typingspeed/default.asp\n",
            "Link: /codegame/index.html\n",
            "Link: /cybersecurity/index.php\n",
            "Link: /accessibility/index.php\n",
            "Link: https://campus.w3schools.com/pages/newsletter\n",
            "Link: /html/html_exercises.asp\n",
            "Link: /html/html_exercises.asp\n",
            "Link: /html/html_quiz.asp\n",
            "Link: /css/css_exercises.asp\n",
            "Link: /css/css_exercises.asp\n",
            "Link: /css/css_quiz.asp\n",
            "Link: /bootstrap/bootstrap_exercises.asp\n",
            "Link: /bootstrap/bootstrap_exercises.asp\n",
            "Link: /bootstrap/bootstrap_quiz.asp\n",
            "Link: /dsa/dsa_exercises.php\n",
            "Link: /dsa/dsa_exercises.php\n",
            "Link: /dsa/dsa_quiz.php\n",
            "Link: /python/numpy/numpy_exercises.asp\n",
            "Link: /python/numpy/numpy_exercises.asp\n",
            "Link: /python/numpy/numpy_quiz.asp\n",
            "Link: /python/pandas/pandas_exercises.asp\n",
            "Link: /python/pandas/pandas_exercises.asp\n",
            "Link: /python/pandas/pandas_quiz.asp\n",
            "Link: /python/scipy/scipy_exercises.php\n",
            "Link: /python/scipy/scipy_exercises.php\n",
            "Link: /python/scipy/scipy_quiz.php\n",
            "Link: /excel/excel_exercises.php\n",
            "Link: /excel/excel_exercises.php\n",
            "Link: /exercises/index.php\n",
            "Link: /quiztest/default.asp\n",
            "Link: /js/js_exercises.asp\n",
            "Link: /js/js_exercises.asp\n",
            "Link: /js/js_quiz.asp\n",
            "Link: /react/react_exercises.asp\n",
            "Link: /react/react_exercises.asp\n",
            "Link: /react/react_quiz.asp\n",
            "Link: /jquery/jquery_exercises.asp\n",
            "Link: /jquery/jquery_exercises.asp\n",
            "Link: /jquery/jquery_quiz.asp\n",
            "Link: /vue/vue_exercises.php\n",
            "Link: /vue/vue_exercises.php\n",
            "Link: /vue/vue_quiz.php\n",
            "Link: /python/python_exercises.asp\n",
            "Link: /python/python_exercises.asp\n",
            "Link: /python/python_quiz.asp\n",
            "Link: /sql/sql_exercises.asp\n",
            "Link: /sql/sql_exercises.asp\n",
            "Link: /sql/sql_quiz.asp\n",
            "Link: /mysql/mysql_exercises.asp\n",
            "Link: /mysql/mysql_exercises.asp\n",
            "Link: /mysql/mysql_quiz.asp\n",
            "Link: /php/php_exercises.asp\n",
            "Link: /php/php_exercises.asp\n",
            "Link: /php/php_quiz.asp\n",
            "Link: /java/java_exercises.asp\n",
            "Link: /java/java_exercises.asp\n",
            "Link: /java/java_quiz.asp\n",
            "Link: /c/c_exercises.php\n",
            "Link: /c/c_exercises.php\n",
            "Link: /c/c_quiz.php\n",
            "Link: /cpp/cpp_exercises.asp\n",
            "Link: /cpp/cpp_exercises.asp\n",
            "Link: /cpp/cpp_quiz.asp\n",
            "Link: /cs/cs_exercises.php\n",
            "Link: /cs/cs_exercises.php\n",
            "Link: /cs/cs_quiz.php\n",
            "Link: /r/r_exercises.asp\n",
            "Link: /r/r_exercises.asp\n",
            "Link: /r/r_quiz.asp\n",
            "Link: /kotlin/kotlin_exercises.php\n",
            "Link: /kotlin/kotlin_exercises.php\n",
            "Link: /kotlin/kotlin_quiz.php\n",
            "Link: /django/django_exercises.php\n",
            "Link: /django/django_exercises.php\n",
            "Link: /django/django_quiz.php\n",
            "Link: /postgresql/postgresql_exercises.php\n",
            "Link: /postgresql/postgresql_exercises.php\n",
            "Link: /postgresql/postgresql_quiz.php\n",
            "Link: /typescript/typescript_exercises.php\n",
            "Link: /typescript/typescript_exercises.php\n",
            "Link: /typescript/typescript_quiz.php\n",
            "Link: /git/git_exercises.asp\n",
            "Link: /git/git_exercises.asp\n",
            "Link: /git/git_quiz.asp\n",
            "Link: /go/go_exercises.php\n",
            "Link: /go/go_exercises.php\n",
            "Link: /mongodb/mongodb_exercises.php\n",
            "Link: /mongodb/mongodb_exercises.php\n",
            "Link: /aws/aws_exercises.php\n",
            "Link: /aws/aws_exercises.php\n",
            "Link: /aws/aws_quiz.php\n",
            "Link: /dsa/dsa_exercises.php\n",
            "Link: /dsa/dsa_exercises.php\n",
            "Link: /dsa/dsa_quiz.php\n",
            "Link: /python/numpy/numpy_exercises.asp\n",
            "Link: /python/numpy/numpy_exercises.asp\n",
            "Link: /python/numpy/numpy_quiz.asp\n",
            "Link: /python/pandas/pandas_exercises.asp\n",
            "Link: /python/pandas/pandas_exercises.asp\n",
            "Link: /python/pandas/pandas_quiz.asp\n",
            "Link: /python/scipy/scipy_exercises.php\n",
            "Link: /python/scipy/scipy_exercises.php\n",
            "Link: /python/scipy/scipy_quiz.php\n",
            "Link: /excel/excel_exercises.php\n",
            "Link: /excel/excel_exercises.php\n",
            "Link: /exercises/index.php\n",
            "Link: /quiztest/default.asp\n",
            "Link: https://campus.w3schools.com/collections/certifications/products/html-certificate\n",
            "Link: https://campus.w3schools.com/collections/certifications/products/html-certificate\n",
            "Link: https://campus.w3schools.com/collections/course-catalog/products/html-course\n",
            "Link: https://campus.w3schools.com/collections/certifications/products/css-certificate\n",
            "Link: https://campus.w3schools.com/collections/certifications/products/css-certificate\n",
            "Link: https://campus.w3schools.com/collections/course-catalog/products/css-course\n",
            "Link: https://campus.w3schools.com/collections/certifications/products/bootstrap-3-certificate\n",
            "Link: https://campus.w3schools.com/collections/certifications/products/bootstrap-3-certificate\n",
            "Link: https://campus.w3schools.com/collections/single-courses/products/bootstrap-course\n",
            "Link: https://campus.w3schools.com/collections/certifications/products/bootstrap-4-certificate\n",
            "Link: https://campus.w3schools.com/collections/certifications/products/bootstrap-4-certificate\n",
            "Link: https://campus.w3schools.com/collections/single-courses/products/bootstrap-4-course\n",
            "Link: https://campus.w3schools.com/collections/certifications/products/bootstrap-5-certificate\n",
            "Link: https://campus.w3schools.com/collections/certifications/products/bootstrap-5-certificate\n",
            "Link: https://campus.w3schools.com/products/data-analytics-program\n",
            "Link: https://campus.w3schools.com/products/data-analytics-program\n",
            "Link: https://campus.w3schools.com/products/numpy-certification-exam\n",
            "Link: https://campus.w3schools.com/products/numpy-certification-exam\n",
            "Link: https://campus.w3schools.com/products/numpy-course\n",
            "Link: https://campus.w3schools.com/products/pandas-certification-exam\n",
            "Link: https://campus.w3schools.com/products/pandas-certification-exam\n",
            "Link: https://campus.w3schools.com/products/pandas-course\n",
            "Link: https://campus.w3schools.com/products/excel-certificate\n",
            "Link: https://campus.w3schools.com/products/excel-certificate\n",
            "Link: https://campus.w3schools.com/collections/course-best-sellers/products/social-media-marketing-course\n",
            "Link: https://campus.w3schools.com/collections/course-best-sellers/products/social-media-marketing-course\n",
            "Link: https://campus.w3schools.com\n",
            "Link: https://campus.w3schools.com/collections/course-catalog/products/w3schools-full-access-course\n",
            "Link: https://campus.w3schools.com/collections/certifications/products/front-end-course\n",
            "Link: https://campus.w3schools.com/collections/certifications/products/front-end-certificate\n",
            "Link: https://campus.w3schools.com/collections/course-catalog/products/front-end-course\n",
            "Link: https://campus.w3schools.com/collections/certifications/products/modern-web-development-certification\n",
            "Link: https://campus.w3schools.com/collections/certifications/products/modern-web-development-certification\n",
            "Link: https://campus.w3schools.com/collections/course-best-sellers/products/learn-modern-web-development\n",
            "Link: https://campus.w3schools.com/collections/certifications/products/web-application-development-certificates\n",
            "Link: https://campus.w3schools.com/collections/certifications/products/web-application-development-certificates\n",
            "Link: https://campus.w3schools.com/collections/course-best-sellers/products/web-application-development-course\n",
            "Link: https://campus.w3schools.com/collections/certifications/products/web-design-certification\n",
            "Link: https://campus.w3schools.com/collections/certifications/products/web-design-certification\n",
            "Link: https://campus.w3schools.com/collections/course-best-sellers/products/learn-web-design\n",
            "Link: https://campus.w3schools.com/collections/certifications/products/javascript-certificate\n",
            "Link: https://campus.w3schools.com/collections/certifications/products/javascript-certificate\n",
            "Link: https://campus.w3schools.com/collections/course-catalog/products/javascript-course\n",
            "Link: https://campus.w3schools.com/collections/certifications/products/react-js-certificate\n",
            "Link: https://campus.w3schools.com/collections/certifications/products/react-js-certificate\n",
            "Link: https://campus.w3schools.com/collections/course-catalog/products/react-js-course\n",
            "Link: https://campus.w3schools.com/collections/certifications/products/jquery-certificate\n",
            "Link: https://campus.w3schools.com/collections/certifications/products/jquery-certificate\n",
            "Link: https://campus.w3schools.com/collections/course-catalog/products/jquery-course\n",
            "Link: https://campus.w3schools.com/products/vue-js-certification-exam\n",
            "Link: https://campus.w3schools.com/products/vue-js-certification-exam\n",
            "Link: https://campus.w3schools.com/collections/course-catalog/products/w3schools-full-access-course\n",
            "Link: https://campus.w3schools.com/collections/certifications/products/front-end-certificate\n",
            "Link: https://campus.w3schools.com/collections/certifications/products/front-end-certificate\n",
            "Link: https://campus.w3schools.com/collections/course-catalog/products/front-end-course\n",
            "Link: https://campus.w3schools.com/collections/certifications/products/modern-web-development-certification\n",
            "Link: https://campus.w3schools.com/collections/certifications/products/modern-web-development-certification\n",
            "Link: https://campus.w3schools.com/collections/course-best-sellers/products/learn-modern-web-development\n",
            "Link: https://campus.w3schools.com/collections/certifications/products/web-application-development-certificates\n",
            "Link: https://campus.w3schools.com/collections/certifications/products/web-application-development-certificates\n",
            "Link: https://campus.w3schools.com/collections/course-best-sellers/products/web-application-development-course\n",
            "Link: https://campus.w3schools.com/collections/certifications/products/web-design-certification\n",
            "Link: https://campus.w3schools.com/collections/certifications/products/web-design-certification\n",
            "Link: https://campus.w3schools.com/collections/course-best-sellers/products/learn-web-design\n",
            "Link: https://campus.w3schools.com/collections/course-catalog/products/w3schools-full-access-course\n",
            "Link: https://campus.w3schools.com/collections/certifications/products/front-end-certificate\n",
            "Link: https://campus.w3schools.com/collections/certifications/products/front-end-certificate\n",
            "Link: https://campus.w3schools.com/collections/course-catalog/products/front-end-course\n",
            "Link: https://campus.w3schools.com/collections/certifications/products/modern-web-development-certification\n",
            "Link: https://campus.w3schools.com/collections/certifications/products/modern-web-development-certification\n",
            "Link: https://campus.w3schools.com/collections/course-best-sellers/products/learn-modern-web-development\n",
            "Link: https://campus.w3schools.com/collections/certifications/products/web-application-development-certificates\n",
            "Link: https://campus.w3schools.com/collections/certifications/products/web-application-development-certificates\n",
            "Link: https://campus.w3schools.com/collections/course-best-sellers/products/web-application-development-course\n",
            "Link: https://campus.w3schools.com/collections/certifications/products/web-design-certification\n",
            "Link: https://campus.w3schools.com/collections/certifications/products/web-design-certification\n",
            "Link: https://campus.w3schools.com/collections/course-best-sellers/products/learn-web-design\n",
            "Link: https://campus.w3schools.com/collections/certifications/products/python-certificate\n",
            "Link: https://campus.w3schools.com/collections/certifications/products/python-certificate\n",
            "Link: https://campus.w3schools.com/collections/course-catalog/products/python-course\n",
            "Link: https://campus.w3schools.com/collections/certifications/products/sql-certificate\n",
            "Link: https://campus.w3schools.com/collections/certifications/products/sql-certificate\n",
            "Link: https://campus.w3schools.com/collections/course-catalog/products/sql-course\n",
            "Link: https://campus.w3schools.com/collections/certifications/products/mysql-certificate\n",
            "Link: https://campus.w3schools.com/collections/certifications/products/mysql-certificate\n",
            "Link: https://campus.w3schools.com/collections/certifications/products/php-certificate\n",
            "Link: https://campus.w3schools.com/collections/certifications/products/php-certificate\n",
            "Link: https://campus.w3schools.com/collections/course-catalog/products/php-course\n",
            "Link: https://campus.w3schools.com/collections/certifications/products/java-certificate\n",
            "Link: https://campus.w3schools.com/collections/certifications/products/java-certificate\n",
            "Link: https://campus.w3schools.com/collections/course-catalog/products/java-course\n",
            "Link: https://campus.w3schools.com/products/c-certification-exam\n",
            "Link: https://campus.w3schools.com/products/c-certification-exam\n",
            "Link: https://campus.w3schools.com/collections/certifications/products/c-certificate\n",
            "Link: https://campus.w3schools.com/collections/certifications/products/c-certificate\n",
            "Link: https://campus.w3schools.com/collections/course-catalog/products/c-course-1\n",
            "Link: https://campus.w3schools.com/collections/certifications/products/c-certificate-1\n",
            "Link: https://campus.w3schools.com/collections/certifications/products/c-certificate-1\n",
            "Link: https://campus.w3schools.com/collections/course-catalog/products/c-course\n",
            "Link: https://campus.w3schools.com/collections/course-catalog/products/r-course\n",
            "Link: https://campus.w3schools.com/collections/course-catalog/products/r-course\n",
            "Link: https://campus.w3schools.com/products/django-certification-exam\n",
            "Link: https://campus.w3schools.com/products/django-certification-exam\n",
            "Link: https://campus.w3schools.com/collections/certifications/products/typescript-certificate\n",
            "Link: https://campus.w3schools.com/collections/certifications/products/typescript-certificate\n",
            "Link: https://campus.w3schools.com/products/learn-typescript\n",
            "Link: https://campus.w3schools.com/collections/certifications/products/xml-certificate\n",
            "Link: https://campus.w3schools.com/collections/certifications/products/xml-certificate\n",
            "Link: https://campus.w3schools.com/collections/course-catalog/products/xml-course\n",
            "Link: https://campus.w3schools.com/collections/certifications/products/cyber-security-certificate\n",
            "Link: https://campus.w3schools.com/collections/certifications/products/cyber-security-certificate\n",
            "Link: https://campus.w3schools.com/products/cyber-security-course\n",
            "Link: https://campus.w3schools.com/collections/certifications/products/accessibility-certificate\n",
            "Link: https://campus.w3schools.com/collections/certifications/products/accessibility-certificate\n",
            "Link: https://campus.w3schools.com/products/accessibility-course\n",
            "Link: https://campus.w3schools.com/collections/course-best-sellers/products/building-modern-python-apps-on-aws\n",
            "Link: https://campus.w3schools.com/collections/course-best-sellers/products/building-modern-python-apps-on-aws\n",
            "Link: /training/aws/home/\n",
            "Link: /training/aws/home/\n",
            "Link: https://campus.w3schools.com/products/data-analytics-program\n",
            "Link: https://campus.w3schools.com/products/data-analytics-program\n",
            "Link: https://campus.w3schools.com/products/numpy-course\n",
            "Link: https://campus.w3schools.com/products/numpy-course\n",
            "Link: https://campus.w3schools.com/products/pandas-course\n",
            "Link: https://campus.w3schools.com/products/pandas-course\n",
            "Link: https://campus.w3schools.com/products/excel-certificate\n",
            "Link: https://campus.w3schools.com/products/excel-certificate\n",
            "Link: https://campus.w3schools.com/collections/course-best-sellers/products/social-media-marketing-course\n",
            "Link: https://campus.w3schools.com/collections/course-best-sellers/products/social-media-marketing-course\n",
            "Link: https://campus.w3schools.com\n",
            "Link: /tutorials/index.php\n",
            "Link: /references/index.php\n",
            "Link: /spaces/index.php\n",
            "Link: /exercises/index.php\n",
            "Link: /quiztest/default.asp\n",
            "Link: https://campus.w3schools.com/collections/certifications\n",
            "Link: https://profile.w3schools.com/sign-up\n",
            "Link: https://profile.w3schools.com/sign-up\n",
            "Link: /pro/index.php\n",
            "Link: /where_to_start.asp\n",
            "Link: /tryit/default.asp\n",
            "Link: /videos/index.php\n",
            "Link: /w3css/w3css_templates.asp\n",
            "Link: /spaces/index.php\n",
            "Link: /spaces/index.php\n",
            "Link: /howto/default.asp\n",
            "Link: /w3css/default.asp\n",
            "Link: /browsers/default.asp\n",
            "Link: /typingspeed/default.asp\n",
            "Link: /training/aws/home/\n",
            "Link: /colors/colors_picker.asp\n",
            "Link: /codegame/index.html\n",
            "Link: /pathfinder/pathfinder_talent.php\n",
            "Link: https://campus.w3schools.com/pages/newsletter\n",
            "Link: https://www.facebook.com/w3schoolscom/\n",
            "Link: https://www.instagram.com/w3schools.com_official/\n",
            "Link: https://discord.gg/6Z7UaRbUQM\n",
            "Link: https://www.linkedin.com/company/w3schools.com/\n",
            "Link: javascript:void(0);\n",
            "Link: /html/default.asp\n",
            "Link: /css/default.asp\n",
            "Link: /js/default.asp\n",
            "Link: /sql/default.asp\n",
            "Link: /python/default.asp\n",
            "Link: /java/default.asp\n",
            "Link: /php/default.asp\n",
            "Link: /howto/default.asp\n",
            "Link: /w3css/default.asp\n",
            "Link: /c/index.php\n",
            "Link: /cpp/default.asp\n",
            "Link: /cs/index.php\n",
            "Link: /bootstrap/bootstrap_ver.asp\n",
            "Link: /react/default.asp\n",
            "Link: /mysql/default.asp\n",
            "Link: /jquery/default.asp\n",
            "Link: /excel/index.php\n",
            "Link: /xml/default.asp\n",
            "Link: /django/index.php\n",
            "Link: /python/numpy/default.asp\n",
            "Link: /python/pandas/default.asp\n",
            "Link: /nodejs/default.asp\n",
            "Link: /r/default.asp\n",
            "Link: /typescript/index.php\n",
            "Link: /angular/default.asp\n",
            "Link: /git/default.asp\n",
            "Link: /postgresql/index.php\n",
            "Link: /mongodb/index.php\n",
            "Link: /asp/default.asp\n",
            "Link: /ai/default.asp\n",
            "Link: /go/index.php\n",
            "Link: /kotlin/index.php\n",
            "Link: /sass/default.asp\n",
            "Link: /vue/index.php\n",
            "Link: /dsa/index.php\n",
            "Link: /gen_ai/index.php\n",
            "Link: /python/scipy/index.php\n",
            "Link: /aws/index.php\n",
            "Link: /cybersecurity/index.php\n",
            "Link: /datascience/default.asp\n",
            "Link: javascript:void(0)\n",
            "Link: where_to_start.asp\n",
            "Link: /html/default.asp\n",
            "Link: https://www.w3schools.com/videos/index.php\n",
            "Link: /tags/default.asp\n",
            "Link: https://shop.w3schools.com/collections/certifications/products/html-certificate\n",
            "Link: /html/tryit.asp?filename=tryhtml_default_default\n",
            "Link: /css/default.asp\n",
            "Link: /cssref/index.php\n",
            "Link: https://shop.w3schools.com/collections/certifications/products/css-certificate\n",
            "Link: /css/tryit.asp?filename=trycss_default\n",
            "Link: /js/default.asp\n",
            "Link: /jsref/default.asp\n",
            "Link: https://shop.w3schools.com/collections/certifications/products/javascript-certificate\n",
            "Link: /js/tryit.asp?filename=tryjs_default\n",
            "Link: /python/default.asp\n",
            "Link: /python/python_reference.asp\n",
            "Link: https://shop.w3schools.com/collections/certifications/products/python-certificate\n",
            "Link: /python/trypython.asp?filename=demo_indentation\n",
            "Link: /sql/default.asp\n",
            "Link: /sql/sql_ref_keywords.asp\n",
            "Link: https://shop.w3schools.com/collections/certifications/products/sql-certificate\n",
            "Link: /sql/trysql.asp?filename=trysql_select_where\n",
            "Link: /php/default.asp\n",
            "Link: /jquery/default.asp\n",
            "Link: /java/default.asp\n",
            "Link: /cpp/default.asp\n",
            "Link: /w3css/default.asp\n",
            "Link: /bootstrap/bootstrap_ver.asp\n",
            "Link: /c/index.php\n",
            "Link: /cs/index.php\n",
            "Link: /r/default.asp\n",
            "Link: /kotlin/index.php\n",
            "Link: /nodejs/default.asp\n",
            "Link: /react/default.asp\n",
            "Link: /js/js_json.asp\n",
            "Link: /vue/index.php\n",
            "Link: /mysql/default.asp\n",
            "Link: /xml/default.asp\n",
            "Link: /sass/default.php\n",
            "Link: /icons/default.asp\n",
            "Link: /css/css_rwd_intro.asp\n",
            "Link: /graphics/default.asp\n",
            "Link: /graphics/svg_intro.asp\n",
            "Link: /graphics/canvas_intro.asp\n",
            "Link: /nodejs/nodejs_raspberrypi.asp\n",
            "Link: /cybersecurity/index.php\n",
            "Link: /colors/default.asp\n",
            "Link: /git/default.asp\n",
            "Link: /python/matplotlib_intro.asp\n",
            "Link: /python/numpy/default.asp\n",
            "Link: /python/pandas/default.asp\n",
            "Link: /python/scipy/index.php\n",
            "Link: /asp/default.asp\n",
            "Link: /angular/default.asp\n",
            "Link: /appml/default.asp\n",
            "Link: /go/index.php\n",
            "Link: /typescript/index.php\n",
            "Link: /django/index.php\n",
            "Link: /mongodb/index.php\n",
            "Link: /statistics/index.php\n",
            "Link: /datascience/default.asp\n",
            "Link: /typingspeed/default.asp\n",
            "Link: /howto/default.asp\n",
            "Link: /codegame/index.html\n",
            "Link: /spaces/index.php\n",
            "Link: /postgresql/index.php\n",
            "Link: /excel/index.php\n",
            "Link: /dsa/index.php\n",
            "Link: /python/python_ml_getting_started.asp\n",
            "Link: /ai/default.asp\n",
            "Link: /tryit/tryit.asp?filename=tryhtml_hello\n",
            "Link: /tryit/trycompiler.asp?filename=demo_python\n",
            "Link: /spaces/index.php\n",
            "Link: /spaces/index.php\n",
            "Link: https://profile.w3schools.com/sign-up\n",
            "Link: https://www.w3schools.com/spaces/index.php\n",
            "Link: /videos/index.php\n",
            "Link: /pro/index.php\n",
            "Link: /colors/colors_picker.asp\n",
            "Link: /codegame/index.html\n",
            "Link: /codegame/index.html\n",
            "Link: /exercises/index.php\n",
            "Link: /quiztest/default.asp\n",
            "Link: /w3css/w3css_templates.asp\n",
            "Link: /w3css/w3css_templates.asp\n",
            "Link: https://shop.w3schools.com/collections/course-catalog\n",
            "Link: /howto/default.asp\n",
            "Link: https://profile.w3schools.com/log-in?redirect_url=https%3A%2F%2Fmy-learning.w3schools.com\n",
            "Link: https://profile.w3schools.com/log-in?redirect_url=https%3A%2F%2Fpathfinder.w3schools.com\n",
            "Link: https://profile.w3schools.com/sign-up?redirect_url=https%3A%2F%2Fpathfinder.w3schools.com\n",
            "Link: //www.w3schools.com\n",
            "Link: /spaces/index.php\n",
            "Link: /pro/index.php\n",
            "Link: /pro/index.php\n",
            "Link: https://campus.w3schools.com/pages/newsletter\n",
            "Link: https://campus.w3schools.com/collections/certifications\n",
            "Link: javascript:void(0);\n",
            "Link: /html/default.asp\n",
            "Link: /css/default.asp\n",
            "Link: /js/default.asp\n",
            "Link: /howto/default.asp\n",
            "Link: /sql/default.asp\n",
            "Link: /python/default.asp\n",
            "Link: /w3css/default.asp\n",
            "Link: /bootstrap/bootstrap_ver.asp\n",
            "Link: /php/default.asp\n",
            "Link: /java/default.asp\n",
            "Link: /cpp/default.asp\n",
            "Link: /jquery/default.asp\n",
            "Link: /tags/default.asp\n",
            "Link: /cssref/index.php\n",
            "Link: /jsref/default.asp\n",
            "Link: /sql/sql_ref_keywords.asp\n",
            "Link: /python/python_reference.asp\n",
            "Link: /w3css/w3css_references.asp\n",
            "Link: /bootstrap/bootstrap_ref_all_classes.asp\n",
            "Link: /php/php_ref_overview.asp\n",
            "Link: /colors/colors_names.asp\n",
            "Link: /java/java_ref_keywords.asp\n",
            "Link: /angular/angular_ref_directives.asp\n",
            "Link: /jquery/jquery_ref_overview.asp\n",
            "Link: /html/html_examples.asp\n",
            "Link: /css/css_examples.asp\n",
            "Link: /js/js_examples.asp\n",
            "Link: /howto/default.asp\n",
            "Link: /sql/sql_examples.asp\n",
            "Link: /python/python_examples.asp\n",
            "Link: /w3css/w3css_examples.asp\n",
            "Link: /bootstrap/bootstrap_examples.asp\n",
            "Link: /php/php_examples.asp\n",
            "Link: /java/java_examples.asp\n",
            "Link: /xml/xml_examples.asp\n",
            "Link: /jquery/jquery_examples.asp\n",
            "Link: https://campus.w3schools.com/collections/course-catalog\n",
            "Link: https://campus.w3schools.com/collections/certifications/products/html-certificate\n",
            "Link: https://campus.w3schools.com/collections/certifications/products/css-certificate\n",
            "Link: https://campus.w3schools.com/collections/certifications/products/javascript-certificate\n",
            "Link: https://campus.w3schools.com/collections/certifications/products/front-end-certificate\n",
            "Link: https://campus.w3schools.com/collections/certifications/products/sql-certificate\n",
            "Link: https://campus.w3schools.com/collections/certifications/products/python-certificate\n",
            "Link: https://campus.w3schools.com/collections/certifications/products/php-certificate\n",
            "Link: https://campus.w3schools.com/collections/certifications/products/jquery-certificate\n",
            "Link: https://campus.w3schools.com/collections/certifications/products/java-certificate\n",
            "Link: https://campus.w3schools.com/collections/certifications/products/c-certificate\n",
            "Link: https://campus.w3schools.com/collections/certifications/products/c-certificate-1\n",
            "Link: https://campus.w3schools.com/collections/certifications/products/xml-certificate\n",
            "Link: https://www.facebook.com/w3schoolscom/\n",
            "Link: https://discord.gg/6Z7UaRbUQM\n",
            "Link: https://www.linkedin.com/company/w3schools.com/\n",
            "Link: https://www.instagram.com/w3schools.com_official/\n",
            "Link: /forum/default.asp\n",
            "Link: /about/default.asp\n",
            "Link: /about/about_copyright.asp\n",
            "Link: /about/about_privacy.asp\n",
            "Link: /about/about_copyright.asp\n",
            "Link: //www.w3schools.com/w3css/default.asp\n"
          ]
        }
      ]
    },
    {
      "cell_type": "markdown",
      "source": [
        "# **Using R**"
      ],
      "metadata": {
        "id": "_cE97raUvTI5"
      }
    },
    {
      "cell_type": "code",
      "source": [
        "install.packages(\"tm\")\n",
        "install.packages(\"rvest\")\n",
        "install.packages(\"tokenizers\")\n",
        "install.packages(\"openNLP\")"
      ],
      "metadata": {
        "colab": {
          "base_uri": "https://localhost:8080/"
        },
        "id": "zWQRwRirEQHv",
        "outputId": "5ba95a79-62de-433c-c103-401af56ac19b"
      },
      "execution_count": 3,
      "outputs": [
        {
          "output_type": "stream",
          "name": "stderr",
          "text": [
            "Installing package into ‘/usr/local/lib/R/site-library’\n",
            "(as ‘lib’ is unspecified)\n",
            "\n",
            "also installing the dependencies ‘NLP’, ‘Rcpp’, ‘slam’, ‘BH’\n",
            "\n",
            "\n",
            "Installing package into ‘/usr/local/lib/R/site-library’\n",
            "(as ‘lib’ is unspecified)\n",
            "\n",
            "Installing package into ‘/usr/local/lib/R/site-library’\n",
            "(as ‘lib’ is unspecified)\n",
            "\n",
            "also installing the dependency ‘SnowballC’\n",
            "\n",
            "\n",
            "Installing package into ‘/usr/local/lib/R/site-library’\n",
            "(as ‘lib’ is unspecified)\n",
            "\n",
            "also installing the dependencies ‘openNLPdata’, ‘rJava’\n",
            "\n",
            "\n",
            "Warning message in install.packages(\"openNLP\"):\n",
            "“installation of package ‘rJava’ had non-zero exit status”\n",
            "Warning message in install.packages(\"openNLP\"):\n",
            "“installation of package ‘openNLPdata’ had non-zero exit status”\n",
            "Warning message in install.packages(\"openNLP\"):\n",
            "“installation of package ‘openNLP’ had non-zero exit status”\n"
          ]
        }
      ]
    },
    {
      "cell_type": "code",
      "source": [
        "library(tm)\n",
        "library(rvest)\n",
        "library(NLP)\n",
        "library(tokenizers)\n",
        "library(SnowballC)"
      ],
      "metadata": {
        "colab": {
          "base_uri": "https://localhost:8080/"
        },
        "id": "BP2-eF1pFIFQ",
        "outputId": "dc68132c-4e13-417f-d665-f31436eb9d57"
      },
      "execution_count": 4,
      "outputs": [
        {
          "output_type": "stream",
          "name": "stderr",
          "text": [
            "Loading required package: NLP\n",
            "\n"
          ]
        }
      ]
    },
    {
      "cell_type": "code",
      "source": [
        "# install.packages(c(\"tm\", \"NLP\", \"quanteda\", \"udpipe\", \"rvest\", \"tidyverse\"))\n",
        "install.packages('tm')"
      ],
      "metadata": {
        "colab": {
          "base_uri": "https://localhost:8080/"
        },
        "id": "Z2iMZ6De8C1o",
        "outputId": "8e889ca3-4531-4fa3-8003-447cc6088b53"
      },
      "execution_count": null,
      "outputs": [
        {
          "output_type": "stream",
          "name": "stderr",
          "text": [
            "Installing package into ‘/usr/local/lib/R/site-library’\n",
            "(as ‘lib’ is unspecified)\n",
            "\n"
          ]
        }
      ]
    },
    {
      "cell_type": "code",
      "source": [
        "install.packages('NLP')"
      ],
      "metadata": {
        "colab": {
          "base_uri": "https://localhost:8080/"
        },
        "id": "Gc6PgHA28acx",
        "outputId": "3fe2d5ef-a145-4503-96d0-2c3e035448d8"
      },
      "execution_count": null,
      "outputs": [
        {
          "output_type": "stream",
          "name": "stderr",
          "text": [
            "Installing package into ‘/usr/local/lib/R/site-library’\n",
            "(as ‘lib’ is unspecified)\n",
            "\n"
          ]
        }
      ]
    },
    {
      "cell_type": "code",
      "source": [
        "install.packages('quanteda')"
      ],
      "metadata": {
        "colab": {
          "base_uri": "https://localhost:8080/"
        },
        "id": "8iFFjn1T8jB4",
        "outputId": "6e36b57d-6ef6-4e88-f1d9-853c816955be"
      },
      "execution_count": null,
      "outputs": [
        {
          "output_type": "stream",
          "name": "stderr",
          "text": [
            "Installing package into ‘/usr/local/lib/R/site-library’\n",
            "(as ‘lib’ is unspecified)\n",
            "\n"
          ]
        }
      ]
    },
    {
      "cell_type": "code",
      "source": [
        "# install.packages('udpipe')\n",
        "# install.packages('rvest')\n",
        "install.packages('tidyverse')"
      ],
      "metadata": {
        "colab": {
          "base_uri": "https://localhost:8080/"
        },
        "id": "dIHO_HAC9Yuu",
        "outputId": "3986625a-fd26-41d0-f42b-245df07ee225"
      },
      "execution_count": null,
      "outputs": [
        {
          "output_type": "stream",
          "name": "stderr",
          "text": [
            "Installing package into ‘/usr/local/lib/R/site-library’\n",
            "(as ‘lib’ is unspecified)\n",
            "\n"
          ]
        }
      ]
    },
    {
      "cell_type": "code",
      "source": [
        " # Sample Text\n",
        "library(tm)\n",
        "library(NLP)\n",
        "library(quanteda)\n",
        "library(udpipe)\n",
        "library(rvest)\n",
        "library(tidyverse)\n",
        "\n",
        "\n",
        "text <- \"Welcome to Geeks for Geeks.Embark on an extraordinary coding odyssey with our\n",
        "groundbreaking course,\n",
        "DSA to Development - Complete Coding Guide! Discover the transformative power of mastering\n",
        "Data Structures and Algorithms\n",
        "(DSA) as you venture towards becoming a Proficient Developer.\"\n",
        "\n",
        "# Tokenize the text into words\n",
        "word_tokens <- unlist(tokenize_words(text))\n",
        "\n",
        "# Print the result\n",
        "print(word_tokens)\n",
        "\n"
      ],
      "metadata": {
        "colab": {
          "base_uri": "https://localhost:8080/"
        },
        "id": "OlfxC5kp1BFI",
        "outputId": "601bd8fb-97a3-4fa2-e9a7-95e473f7b192"
      },
      "execution_count": null,
      "outputs": [
        {
          "output_type": "stream",
          "name": "stdout",
          "text": [
            " [1] \"welcome\"        \"to\"             \"geeks\"          \"for\"           \n",
            " [5] \"geeks.embark\"   \"on\"             \"an\"             \"extraordinary\" \n",
            " [9] \"coding\"         \"odyssey\"        \"with\"           \"our\"           \n",
            "[13] \"groundbreaking\" \"course\"         \"dsa\"            \"to\"            \n",
            "[17] \"development\"    \"complete\"       \"coding\"         \"guide\"         \n",
            "[21] \"discover\"       \"the\"            \"transformative\" \"power\"         \n",
            "[25] \"of\"             \"mastering\"      \"data\"           \"structures\"    \n",
            "[29] \"and\"            \"algorithms\"     \"dsa\"            \"as\"            \n",
            "[33] \"you\"            \"venture\"        \"towards\"        \"becoming\"      \n",
            "[37] \"a\"              \"proficient\"     \"developer\"     \n"
          ]
        }
      ]
    },
    {
      "cell_type": "markdown",
      "source": [],
      "metadata": {
        "id": "B1HWcFGO7mBq"
      }
    },
    {
      "cell_type": "code",
      "source": [
        "# Remove stopwords and punctuations\n",
        "stop_words <- stopwords(\"en\")\n",
        "filtered_tokens <- word_tokens[!(word_tokens %in% stop_words) & grepl(\"[a-zA-Z]\", word_tokens)]\n",
        "cat(\"Filtered Tokens (without stopwords and punctuations):\", filtered_tokens, \"\\n\")"
      ],
      "metadata": {
        "colab": {
          "base_uri": "https://localhost:8080/"
        },
        "id": "adDNlxg6EAym",
        "outputId": "a16aa011-e94a-427c-c9c1-9b15e6241418"
      },
      "execution_count": 8,
      "outputs": [
        {
          "output_type": "stream",
          "name": "stdout",
          "text": [
            "Filtered Tokens (without stopwords and punctuations): nature infinite canvas wonders paints landscapes evoke profound sense awe serenity rustling leaves whisper tales ancient wisdom gentle caress breeze carries sweet fragrance blooming flowers sun radiant artist orchestrates masterpiece dawn dusk casting hues dance across sky symphony colors majestic mountains stand sentinels time peaks touching heavens babbling brooks weave meadows like nature's delicate embroidery heart wilderness melody chirping birds hum insects create harmonious chorus inviting one immerse symphony life season vibrant rebirth spring introspective hush winter paints unique stroke canvas existence nature sanctuary tranquility inspires contemplation connection reminding us intricate dance earth inhabitants \n"
          ]
        }
      ]
    },
    {
      "cell_type": "markdown",
      "source": [],
      "metadata": {
        "id": "yoMiCWltHiQL"
      }
    },
    {
      "cell_type": "code",
      "source": [
        "text <- \"Nature, with its infinite canvas of wonders, paints landscapes that evoke a profound sense of awe and serenity. The rustling leaves whisper tales of ancient wisdom, while the gentle caress of the breeze carries the sweet fragrance of blooming flowers. The sun, a radiant artist, orchestrates the masterpiece of dawn and dusk, casting hues that dance across the sky in a symphony of colors. Majestic mountains stand as sentinels of time, their peaks touching the heavens, and babbling brooks weave through meadows like nature's delicate embroidery. In the heart of the wilderness, the melody of chirping birds and the hum of insects create a harmonious chorus, inviting one to immerse in the symphony of life. Each season, from the vibrant rebirth of spring to the introspective hush of winter, paints a unique stroke on the canvas of existence. Nature, a sanctuary of tranquility, inspires contemplation and connection, reminding us of the intricate dance between the earth and its inhabitants.\"\n",
        "sent_tokens <- unlist(tokenize_sentences(text))\n",
        "word_tokens <- unlist(tokenize_words(text))\n",
        "cat(\"Sentence Tokens:\", sent_tokens, \"\\n\")\n",
        "cat(\"Word Tokens:\", word_tokens, \"\\n\")\n",
        "# Frequency Distribution\n",
        "fdist <- table(unlist(word_tokens))\n",
        "print(head(sort(fdist, decreasing = TRUE), 2))"
      ],
      "metadata": {
        "colab": {
          "base_uri": "https://localhost:8080/"
        },
        "id": "yazqCp-HFUkc",
        "outputId": "ccb1354c-c97a-4786-97f0-b1dd89f98059"
      },
      "execution_count": 7,
      "outputs": [
        {
          "output_type": "stream",
          "name": "stdout",
          "text": [
            "Sentence Tokens: Nature, with its infinite canvas of wonders, paints landscapes that evoke a profound sense of awe and serenity. The rustling leaves whisper tales of ancient wisdom, while the gentle caress of the breeze carries the sweet fragrance of blooming flowers. The sun, a radiant artist, orchestrates the masterpiece of dawn and dusk, casting hues that dance across the sky in a symphony of colors. Majestic mountains stand as sentinels of time, their peaks touching the heavens, and babbling brooks weave through meadows like nature's delicate embroidery. In the heart of the wilderness, the melody of chirping birds and the hum of insects create a harmonious chorus, inviting one to immerse in the symphony of life. Each season, from the vibrant rebirth of spring to the introspective hush of winter, paints a unique stroke on the canvas of existence. Nature, a sanctuary of tranquility, inspires contemplation and connection, reminding us of the intricate dance between the earth and its inhabitants. \n",
            "Word Tokens: nature with its infinite canvas of wonders paints landscapes that evoke a profound sense of awe and serenity the rustling leaves whisper tales of ancient wisdom while the gentle caress of the breeze carries the sweet fragrance of blooming flowers the sun a radiant artist orchestrates the masterpiece of dawn and dusk casting hues that dance across the sky in a symphony of colors majestic mountains stand as sentinels of time their peaks touching the heavens and babbling brooks weave through meadows like nature's delicate embroidery in the heart of the wilderness the melody of chirping birds and the hum of insects create a harmonious chorus inviting one to immerse in the symphony of life each season from the vibrant rebirth of spring to the introspective hush of winter paints a unique stroke on the canvas of existence nature a sanctuary of tranquility inspires contemplation and connection reminding us of the intricate dance between the earth and its inhabitants \n",
            "\n",
            "the  of \n",
            " 18  17 \n"
          ]
        }
      ]
    },
    {
      "cell_type": "code",
      "source": [
        "stemmed_tokens <- wordStem(filtered_tokens, language = \"en\")\n",
        "\n",
        "# Lemmatization\n",
        "lemmatized_text <- tolower(text)\n",
        "lemmatized_text <- wordStem(lemmatized_text, language = \"en\")\n",
        "cat(\"Stemmed Tokens:\", stemmed_tokens, \"\\n\")\n",
        "cat(\"Lemmatized Text:\", lemmatized_text, \"\\n\")"
      ],
      "metadata": {
        "colab": {
          "base_uri": "https://localhost:8080/"
        },
        "id": "B5gtWKwnFV3S",
        "outputId": "2744c34c-b1e3-42dd-b562-245d8d58d5b0"
      },
      "execution_count": 9,
      "outputs": [
        {
          "output_type": "stream",
          "name": "stdout",
          "text": [
            "Stemmed Tokens: natur infinit canva wonder paint landscap evok profound sens awe seren rustl leav whisper tale ancient wisdom gentl caress breez carri sweet fragranc bloom flower sun radiant artist orchestr masterpiec dawn dusk cast hue danc across sky symphoni color majest mountain stand sentinel time peak touch heaven babbl brook weav meadow like natur delic embroideri heart wilder melodi chirp bird hum insect creat harmoni chorus invit one immers symphoni life season vibrant rebirth spring introspect hush winter paint uniqu stroke canva exist natur sanctuari tranquil inspir contempl connect remind us intric danc earth inhabit \n",
            "Lemmatized Text: nature, with its infinite canvas of wonders, paints landscapes that evoke a profound sense of awe and serenity. the rustling leaves whisper tales of ancient wisdom, while the gentle caress of the breeze carries the sweet fragrance of blooming flowers. the sun, a radiant artist, orchestrates the masterpiece of dawn and dusk, casting hues that dance across the sky in a symphony of colors. majestic mountains stand as sentinels of time, their peaks touching the heavens, and babbling brooks weave through meadows like nature's delicate embroidery. in the heart of the wilderness, the melody of chirping birds and the hum of insects create a harmonious chorus, inviting one to immerse in the symphony of life. each season, from the vibrant rebirth of spring to the introspective hush of winter, paints a unique stroke on the canvas of existence. nature, a sanctuary of tranquility, inspires contemplation and connection, reminding us of the intricate dance between the earth and its inhabitants. \n"
          ]
        }
      ]
    },
    {
      "cell_type": "code",
      "source": [
        "url <- 'http://quotes.toscrape.com/'\n",
        "web_page <- read_html(url)\n",
        "web_text <- html_text(web_page)\n",
        "cat(\"Scraped Data from the Website:\\n\", web_text)"
      ],
      "metadata": {
        "colab": {
          "base_uri": "https://localhost:8080/"
        },
        "id": "EIqzR3cTFtI8",
        "outputId": "01fb43b3-d816-42f0-b5dd-455140978365"
      },
      "execution_count": 10,
      "outputs": [
        {
          "output_type": "stream",
          "name": "stdout",
          "text": [
            "Scraped Data from the Website:\n",
            " Quotes to Scrape\n",
            "    \n",
            "        \n",
            "            \n",
            "                \n",
            "                    Quotes to Scrape\n",
            "                \n",
            "            \n",
            "            \n",
            "                \n",
            "                \n",
            "                    Login\n",
            "                \n",
            "                \n",
            "            \n",
            "        \n",
            "    \n",
            "\n",
            "\n",
            "    \n",
            "\n",
            "    \n",
            "        “The world as we have created it is a process of our thinking. It cannot be changed without changing our thinking.”\n",
            "        by Albert Einstein\n",
            "        (about)\n",
            "        \n",
            "        \n",
            "            Tags:\n",
            "            change\n",
            "            \n",
            "            deep-thoughts\n",
            "            \n",
            "            thinking\n",
            "            \n",
            "            world\n",
            "            \n",
            "        \n",
            "    \n",
            "\n",
            "    \n",
            "        “It is our choices, Harry, that show what we truly are, far more than our abilities.”\n",
            "        by J.K. Rowling\n",
            "        (about)\n",
            "        \n",
            "        \n",
            "            Tags:\n",
            "            abilities\n",
            "            \n",
            "            choices\n",
            "            \n",
            "        \n",
            "    \n",
            "\n",
            "    \n",
            "        “There are only two ways to live your life. One is as though nothing is a miracle. The other is as though everything is a miracle.”\n",
            "        by Albert Einstein\n",
            "        (about)\n",
            "        \n",
            "        \n",
            "            Tags:\n",
            "            inspirational\n",
            "            \n",
            "            life\n",
            "            \n",
            "            live\n",
            "            \n",
            "            miracle\n",
            "            \n",
            "            miracles\n",
            "            \n",
            "        \n",
            "    \n",
            "\n",
            "    \n",
            "        “The person, be it gentleman or lady, who has not pleasure in a good novel, must be intolerably stupid.”\n",
            "        by Jane Austen\n",
            "        (about)\n",
            "        \n",
            "        \n",
            "            Tags:\n",
            "            aliteracy\n",
            "            \n",
            "            books\n",
            "            \n",
            "            classic\n",
            "            \n",
            "            humor\n",
            "            \n",
            "        \n",
            "    \n",
            "\n",
            "    \n",
            "        “Imperfection is beauty, madness is genius and it's better to be absolutely ridiculous than absolutely boring.”\n",
            "        by Marilyn Monroe\n",
            "        (about)\n",
            "        \n",
            "        \n",
            "            Tags:\n",
            "            be-yourself\n",
            "            \n",
            "            inspirational\n",
            "            \n",
            "        \n",
            "    \n",
            "\n",
            "    \n",
            "        “Try not to become a man of success. Rather become a man of value.”\n",
            "        by Albert Einstein\n",
            "        (about)\n",
            "        \n",
            "        \n",
            "            Tags:\n",
            "            adulthood\n",
            "            \n",
            "            success\n",
            "            \n",
            "            value\n",
            "            \n",
            "        \n",
            "    \n",
            "\n",
            "    \n",
            "        “It is better to be hated for what you are than to be loved for what you are not.”\n",
            "        by André Gide\n",
            "        (about)\n",
            "        \n",
            "        \n",
            "            Tags:\n",
            "            life\n",
            "            \n",
            "            love\n",
            "            \n",
            "        \n",
            "    \n",
            "\n",
            "    \n",
            "        “I have not failed. I've just found 10,000 ways that won't work.”\n",
            "        by Thomas A. Edison\n",
            "        (about)\n",
            "        \n",
            "        \n",
            "            Tags:\n",
            "            edison\n",
            "            \n",
            "            failure\n",
            "            \n",
            "            inspirational\n",
            "            \n",
            "            paraphrased\n",
            "            \n",
            "        \n",
            "    \n",
            "\n",
            "    \n",
            "        “A woman is like a tea bag; you never know how strong it is until it's in hot water.”\n",
            "        by Eleanor Roosevelt\n",
            "        (about)\n",
            "        \n",
            "        \n",
            "            Tags:\n",
            "            misattributed-eleanor-roosevelt\n",
            "            \n",
            "        \n",
            "    \n",
            "\n",
            "    \n",
            "        “A day without sunshine is like, you know, night.”\n",
            "        by Steve Martin\n",
            "        (about)\n",
            "        \n",
            "        \n",
            "            Tags:\n",
            "            humor\n",
            "            \n",
            "            obvious\n",
            "            \n",
            "            simile\n",
            "            \n",
            "        \n",
            "    \n",
            "\n",
            "    \n",
            "                Next →\n",
            "            \n",
            "            \n",
            "        \n",
            "    \n",
            "        \n",
            "            Top Ten tags\n",
            "            \n",
            "            \n",
            "            love\n",
            "            \n",
            "            \n",
            "            \n",
            "            inspirational\n",
            "            \n",
            "            \n",
            "            \n",
            "            life\n",
            "            \n",
            "            \n",
            "            \n",
            "            humor\n",
            "            \n",
            "            \n",
            "            \n",
            "            books\n",
            "            \n",
            "            \n",
            "            \n",
            "            reading\n",
            "            \n",
            "            \n",
            "            \n",
            "            friendship\n",
            "            \n",
            "            \n",
            "            \n",
            "            friends\n",
            "            \n",
            "            \n",
            "            \n",
            "            truth\n",
            "            \n",
            "            \n",
            "            \n",
            "            simile\n",
            "            \n",
            "            \n",
            "        \n",
            "    \n",
            "\n",
            "\n",
            "    \n",
            "    \n",
            "            \n",
            "                Quotes by: GoodReads.com\n",
            "            \n",
            "            \n",
            "                Made with ❤ by Zyte\n",
            "            \n",
            "        \n",
            "    "
          ]
        }
      ]
    },
    {
      "cell_type": "code",
      "source": [],
      "metadata": {
        "id": "FewA-MqKFwO_"
      },
      "execution_count": null,
      "outputs": []
    },
    {
      "cell_type": "markdown",
      "source": [
        "**Conslusion: -**\n",
        "*   Identified the Text Analytics Libraries in Python and R\n",
        "*   Performed simple experiments with these libraries in Python and R\n",
        "\n",
        "\n"
      ],
      "metadata": {
        "id": "XvWjTB2LJf_r"
      }
    }
  ]
}